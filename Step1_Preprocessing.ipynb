{
 "cells": [
  {
   "cell_type": "markdown",
   "id": "e9c1e35a",
   "metadata": {},
   "source": [
    "# Step 1: Preprocessing\n",
    "This file is used to create folders (i.e., Train, Valid, and Test) as well as moving/copy the files from the original dataset into these folders. \n",
    "<br>\n",
    "<br>\n",
    "**Requirments**\n",
    "- Download the dataset into the same folder (\"unZipDatafolder\").\n",
    "- Unzip every zip files.\n",
    "- Remove the zip files such that there are only unzipped folders left."
   ]
  },
  {
   "cell_type": "markdown",
   "id": "b6043a61",
   "metadata": {},
   "source": [
    "## Setup"
   ]
  },
  {
   "cell_type": "code",
   "execution_count": null,
   "id": "d1433c99",
   "metadata": {},
   "outputs": [],
   "source": [
    "## Import required libraries\n",
    "import os\n",
    "import pandas as pd\n",
    "from pathlib import Path\n",
    "import shutil\n",
    "\n",
    "## Get current working directory\n",
    "cwd = os.getcwd()\n",
    "print('Current working directory = ' + cwd)"
   ]
  },
  {
   "cell_type": "code",
   "execution_count": null,
   "id": "107c860d",
   "metadata": {},
   "outputs": [],
   "source": [
    "# Define folder names\n",
    "dataFolder = 'data'\n",
    "trainFolder = 'Train'\n",
    "validFolder = 'Valid'\n",
    "testFolder = 'Test'\n",
    "subFolders = ['1_esophagus','2_stomach','3_small_bowel','4_colon']"
   ]
  },
  {
   "cell_type": "code",
   "execution_count": null,
   "id": "54a43e36",
   "metadata": {},
   "outputs": [],
   "source": [
    "# Define paths for original (unzipped) dataset as well as the lists of path for each folders(traiing, validation, and testing) \n",
    "unZipDatafolder = r'E:\\Brown_GI_VCE_Dataset\\Unzipped_images' # Insert your folder name in this line for unzipped dataset\n",
    "listPathTrain = os.path.join(cwd,'csv','path_train.csv')\n",
    "listPathValid = os.path.join(cwd,'csv','path_valid.csv')\n",
    "listPathTest = os.path.join(cwd,'csv','path_test.csv')\n",
    "print(listPathTrain)\n",
    "print(listPathValid)\n",
    "print(listPathTest)"
   ]
  },
  {
   "cell_type": "code",
   "execution_count": null,
   "id": "03b916e0",
   "metadata": {},
   "outputs": [],
   "source": [
    "# Define the path for each folders\n",
    "# Create paths for data, train, valid, and test\n",
    "dataPath = os.path.join(cwd,dataFolder)\n",
    "trainPath = os.path.join(dataPath,trainFolder)\n",
    "validPath = os.path.join(dataPath,validFolder)\n",
    "testPath = os.path.join(dataPath,testFolder)\n",
    "print('Path for dataFolder = ' + dataPath)\n",
    "print('Path for trainFolder = ' + trainPath)\n",
    "print('Path for validFolder = ' + validPath)\n",
    "print('Path for testFolder = ' + testPath)"
   ]
  },
  {
   "cell_type": "markdown",
   "id": "473937ff",
   "metadata": {},
   "source": [
    "## Create folders and sub-folders\n",
    "For separating the dataset into training, validation, and testing sets with the sub-folders"
   ]
  },
  {
   "cell_type": "code",
   "execution_count": null,
   "id": "cd7fd37e",
   "metadata": {},
   "outputs": [],
   "source": [
    "# Create folders\n",
    "def createFolder(folderName,folderPath):\n",
    "    # This function is for creating a folder only if it does not exist.\n",
    "    if os.path.isdir(folderPath) == True:\n",
    "        print(folderName +' already exists.')\n",
    "    else:\n",
    "        os.mkdir(folderPath)\n",
    "        print(folderName +' has been created.')\n",
    "        \n",
    "# Create sub-folders\n",
    "def createSubfolders(subFolders, mainfolderPath):\n",
    "    # This function is for creating sub-folders under the main folder only if it does not exist.\n",
    "    for s in subFolders:\n",
    "        path_s = os.path.join(mainfolderPath,s)\n",
    "        createFolder(s,path_s)\n",
    "        \n",
    "createFolder('dataFolder',dataPath)\n",
    "createFolder('trainFolder',trainPath)\n",
    "createSubfolders(subFolders, trainPath)\n",
    "createFolder('validFolder',validPath)\n",
    "createSubfolders(subFolders, validPath)\n",
    "createFolder('testFolder',testPath)\n",
    "createSubfolders(subFolders, testPath)"
   ]
  },
  {
   "cell_type": "markdown",
   "id": "8c3088d5",
   "metadata": {},
   "source": [
    "## Copy (or move) files into the created folders"
   ]
  },
  {
   "cell_type": "code",
   "execution_count": null,
   "id": "f658dc57",
   "metadata": {},
   "outputs": [],
   "source": [
    "# Copy/move files to training folder\n",
    "dfTrain = pd.read_csv(listPathTrain)\n",
    "n_dfTrain = len(dfTrain)\n",
    "for i in range(n_dfTrain):\n",
    "    org_i = dfTrain['organ'][i]\n",
    "    path_i = dfTrain['path'][i]\n",
    "    # Create a new file name with sample_id as a prefix to avoid duplicated filenames\n",
    "    newFileName = path_i.replace('/' + org_i + '/','-')\n",
    "    src = Path(os.path.join(unZipDatafolder,path_i))\n",
    "    dst = Path(os.path.join(trainPath,org_i,newFileName))\n",
    "    shutil.copy(src,dst) # can change to shutil.move for moving the files instrad of copying them"
   ]
  },
  {
   "cell_type": "code",
   "execution_count": null,
   "id": "9d4a09f1",
   "metadata": {},
   "outputs": [],
   "source": [
    "# Copy/move files to validation folder\n",
    "dfValid = pd.read_csv(listPathValid)\n",
    "n_dfValid = len(dfValid)\n",
    "for i in range(n_dfValid):\n",
    "    org_i = dfValid['organ'][i]\n",
    "    path_i = dfValid['path'][i]\n",
    "    # Create a new file name with sample_id as a prefix to avoid duplicated filenames\n",
    "    newFileName = path_i.replace('/' + org_i + '/','-')\n",
    "    print(newFileName)\n",
    "    src = Path(os.path.join(unZipDatafolder,path_i))\n",
    "    dst = Path(os.path.join(validPath,org_i,newFileName))\n",
    "    shutil.copy(src,dst) # can change to shutil.move for moving the files instrad of copying them"
   ]
  },
  {
   "cell_type": "code",
   "execution_count": null,
   "id": "85147995",
   "metadata": {},
   "outputs": [],
   "source": [
    "# Copy/move files to testing folder\n",
    "dfTest = pd.read_csv(listPathTest,header=None)\n",
    "testSamples = dfTest[0].values.tolist()\n",
    "\n",
    "for t in testSamples:\n",
    "    for s in subFolders:\n",
    "        print(t,s)\n",
    "        files = os.listdir(os.path.join(unZipDatafolder,t,s))\n",
    "        print(files)\n",
    "        for f in files:\n",
    "            src = os.path.join(unZipDatafolder,t,s,f)\n",
    "            # Create a new file name with sample_id as a prefix to avoid duplicated filenames\n",
    "            newFileName = t+'-'+f\n",
    "            dst = os.path.join(testPath,s,newFileName)\n",
    "            print(src)\n",
    "            print(dst)\n",
    "            shutil.copy(src,dst) # can change to shutil.move for moving the files instrad of copying them"
   ]
  }
 ],
 "metadata": {
  "kernelspec": {
   "display_name": "Python 3",
   "language": "python",
   "name": "python3"
  },
  "language_info": {
   "codemirror_mode": {
    "name": "ipython",
    "version": 3
   },
   "file_extension": ".py",
   "mimetype": "text/x-python",
   "name": "python",
   "nbconvert_exporter": "python",
   "pygments_lexer": "ipython3",
   "version": "3.8.8"
  }
 },
 "nbformat": 4,
 "nbformat_minor": 5
}
