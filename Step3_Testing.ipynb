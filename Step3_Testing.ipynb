{
 "cells": [
  {
   "cell_type": "markdown",
   "id": "bbb461e1",
   "metadata": {},
   "source": [
    "# Step 3: Testing\n",
    "This file is used for testing the trained classification model. In this case, the model is CNN (InceptionResNetV2).\n",
    "\n",
    "<br>\n",
    "\n",
    "**Requirments**\n",
    "- Perform preprocessing in Step1_Preprocessing.ipynb.\n",
    "- Manually create the folders (i.e., , InceptionResNetV2/modelWeight, and InceptionResNetV2/pic).\n",
    "- Download the model file (InceptionResNetV2.h5) to InceptionResNetV2/model or run Step2_Training.ipynb.\n",
    "- Define the data paths in the Setup section."
   ]
  },
  {
   "cell_type": "markdown",
   "id": "3e40a8fe",
   "metadata": {
    "id": "living-specification"
   },
   "source": [
    "## Setup\n",
    "Version of libraries\n",
    "- Tensorflow: 2.4.0\n",
    "- Keras: 2.4.0\n",
    "- pandas: 1.2.1\n",
    "- matplotlib 3.3.3\n",
    "- numpy 1.19.5\n",
    "- scikit-learn 0.24.1"
   ]
  },
  {
   "cell_type": "code",
   "execution_count": null,
   "id": "7505ded3",
   "metadata": {
    "id": "confirmed-nelson"
   },
   "outputs": [],
   "source": [
    "# Import the library for data importing and testing process\n",
    "import pandas as pd\n",
    "import matplotlib.pyplot as plt\n",
    "from keras.preprocessing.image import ImageDataGenerator\n",
    "import numpy as np\n",
    "import keras\n",
    "from keras.models import load_model\n",
    "from keras import backend as K\n",
    "from keras.applications import InceptionResNetV2\n",
    "from sklearn.metrics import confusion_matrix, classification_report\n",
    "import itertools"
   ]
  },
  {
   "cell_type": "code",
   "execution_count": null,
   "id": "1f4d4fd7",
   "metadata": {
    "id": "tutorial-bankruptcy"
   },
   "outputs": [],
   "source": [
    "# Define paths for testing dataset and the trained model\n",
    "testDir = '/xxx/data/Test'\n",
    "model_file = \"/xxx/InceptionResNetV2/model/InceptionResNetV2.h5\""
   ]
  },
  {
   "cell_type": "markdown",
   "id": "0f18be6a",
   "metadata": {
    "id": "consecutive-parks"
   },
   "source": [
    "## Testing process\n",
    "Use the trained model to predict the organ classes."
   ]
  },
  {
   "cell_type": "code",
   "execution_count": null,
   "id": "3e94ee96",
   "metadata": {},
   "outputs": [],
   "source": [
    "# Load model from the pre-defined path.\n",
    "test_model = load_model(model_file)\n",
    "print('load model')"
   ]
  },
  {
   "cell_type": "code",
   "execution_count": null,
   "id": "a8f1dec3",
   "metadata": {
    "id": "broken-czech"
   },
   "outputs": [],
   "source": [
    "# Import data from Testing dataset directory with ImageDataGenerator from Keras\n",
    "imgDataGen = ImageDataGenerator()\n",
    "\n",
    "# Target size is images size for testing which we use (256,256)\n",
    "test_batches = imgDataGen.flow_from_directory( testDir, target_size = (256, 256), color_mode='rgb', batch_size = 10, class_mode ='categorical', shuffle=False)"
   ]
  },
  {
   "cell_type": "code",
   "execution_count": null,
   "id": "ce76b7ad",
   "metadata": {
    "id": "attempted-growing"
   },
   "outputs": [],
   "source": [
    "# Predict the testing dataset using loaded model\n",
    "# steps define how many batches of samples to use in one epoch for testing dataset when predict. But we use 1 batch_size so the batches of samples is equal to number of images.\n",
    "predictions_test = test_model.predict(test_batches,steps = test_batches.n // test_batches.batch_size, verbose = 1)"
   ]
  },
  {
   "cell_type": "code",
   "execution_count": null,
   "id": "9cd81398",
   "metadata": {
    "id": "effective-average"
   },
   "outputs": [],
   "source": [
    "# After prediction, returns the maximum values within axis from predicted result.\n",
    "y_pred = np.argmax(predictions_test, axis=1)\n",
    "\n",
    "# Return the true data.\n",
    "y_true = test_batches.classes"
   ]
  },
  {
   "cell_type": "markdown",
   "id": "eb8a0ca1",
   "metadata": {},
   "source": [
    "## Visualization\n",
    "Calculate performance metrics (e.g., confusion matrix, precision, recall, etc) and visualize them."
   ]
  },
  {
   "cell_type": "code",
   "execution_count": null,
   "id": "f4ea1924",
   "metadata": {
    "id": "uniform-excerpt"
   },
   "outputs": [],
   "source": [
    "# Function for plotting confusion matrix graph to how the model predicted.\n",
    "def plot_confusion_matrix(cm, classes,\n",
    "                          normalize=False,\n",
    "                          title='Confusion matrix',\n",
    "                          cmap=plt.cm.Blues):\n",
    "    \"\"\"\n",
    "    This function prints and plots the confusion matrix.\n",
    "    Normalization can be applied by setting `normalize=True`.\n",
    "    \"\"\"\n",
    "    # set the figure size.\n",
    "    plt.figure(figsize=(8,8)) #20,20\n",
    "    plt.imshow(cm, interpolation='nearest', cmap=cmap)\n",
    "    # set the title of figure.\n",
    "    plt.title(title)\n",
    "    # Plot the color bar for the figure\n",
    "    plt.colorbar()\n",
    "    tick_marks = np.arange(len(classes))\n",
    "    plt.xticks(tick_marks, classes, rotation=90)\n",
    "    plt.yticks(tick_marks, classes)\n",
    "\n",
    "    # normalize is set to False in this work\n",
    "    if normalize:\n",
    "      cm = cm.astype('float') / cm.sum(axis=1)[:, np.newaxis]\n",
    "      print(\"Normalized confusion matrix\")\n",
    "    else:\n",
    "      print('Confusion matrix, without normalization')\n",
    "\n",
    "    print(cm)\n",
    "\n",
    "    thresh = cm.max() / 2.\n",
    "    for i, j in itertools.product(range(cm.shape[0]), range(cm.shape[1])):\n",
    "      plt.text(j, i, cm[i, j],\n",
    "              horizontalalignment=\"center\",\n",
    "              color=\"white\" if cm[i, j] > thresh else \"black\")\n",
    "\n",
    "    plt.tight_layout()\n",
    "    # Set y-axis of figure as True label\n",
    "    plt.ylabel('True label')\n",
    "    # Set x-axis of figure as Predicted label\n",
    "    plt.xlabel('Predicted label')\n",
    "    # Save the figure to specific path.\n",
    "    plt.savefig('/home/ukawee_gmail_com/InceptionResNetV2/pic/testCM_150')"
   ]
  },
  {
   "cell_type": "code",
   "execution_count": null,
   "id": "273ba960",
   "metadata": {
    "id": "ready-india"
   },
   "outputs": [],
   "source": [
    "# Plotting confusion matrix using confusion_matrix function from above\n",
    "cm = confusion_matrix( y_true , y_pred)\n",
    "\n",
    "# label the confusion matrix with the name of organs\n",
    "organs = list(test_batches.class_indices.keys())\n",
    "cm_plot_labels = organs\n",
    "\n",
    "# Plot confusion matrix as output\n",
    "plot_confusion_matrix(cm, cm_plot_labels, title='Confusion Matrix')\n",
    "\n",
    "# label for the classification table and print it as output. All value are round to 4 decimal places\n",
    "target_names = test_batches.class_indices.keys()\n",
    "print(classification_report(y_true, y_pred, target_names = target_names, digits=4))"
   ]
  },
  {
   "cell_type": "code",
   "execution_count": null,
   "id": "ec56e9f9",
   "metadata": {
    "id": "anticipated-bacon"
   },
   "outputs": [],
   "source": [
    "# Plotting table for specificity which doesn't provide by classification_report\n",
    "# All value are round to 4 decimal places\n",
    "from sklearn.metrics import precision_recall_fscore_support\n",
    "res = []\n",
    "for l in [0,1,2,3]:\n",
    "    prec,recall,_,_ = precision_recall_fscore_support(np.array(y_true)==l,\n",
    "                                                      np.array(y_pred)==l,\n",
    "                                                      pos_label=True,average=None)\n",
    "    res.append([l,round(recall[0],4),round((recall[1]),4)])\n",
    "\n",
    "pd.DataFrame(res,columns = ['class','specificity','sensitivity (recall)'])"
   ]
  }
 ],
 "metadata": {
  "colab": {
   "collapsed_sections": [],
   "name": "InceptionResNetV2-Test.ipynb",
   "provenance": []
  },
  "kernelspec": {
   "display_name": "Python 3",
   "language": "python",
   "name": "python3"
  },
  "language_info": {
   "codemirror_mode": {
    "name": "ipython",
    "version": 3
   },
   "file_extension": ".py",
   "mimetype": "text/x-python",
   "name": "python",
   "nbconvert_exporter": "python",
   "pygments_lexer": "ipython3",
   "version": "3.8.8"
  }
 },
 "nbformat": 4,
 "nbformat_minor": 5
}
